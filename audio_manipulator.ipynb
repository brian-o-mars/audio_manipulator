{
 "cells": [
  {
   "cell_type": "code",
   "execution_count": 1,
   "metadata": {},
   "outputs": [],
   "source": [
    "#import libraries\n",
    "#speech-recognition to convert audio to text\n",
    "#gTTS coverts text to an audio file\n",
    "#ipd plays the audio file in the notebook\n",
    "import speech_recognition as sr\n",
    "from gtts import gTTS\n",
    "import IPython.display as ipd"
   ]
  },
  {
   "cell_type": "code",
   "execution_count": 2,
   "metadata": {},
   "outputs": [],
   "source": [
    "#fuction that takes an audio file as argument and converts to text\n",
    "#audio file should be in '.wav'.\n",
    "#enter the audio file extension as an argument\n",
    "def speech_manipulation(audio):\n",
    "    recognizer = sr.Recognizer()\n",
    "    # open the file\n",
    "    with sr.AudioFile(audio) as source:\n",
    "        # listen for the data (load audio to memory)\n",
    "        audio_data = recognizer.record(source)\n",
    "        # recognize (convert from speech to text)\n",
    "        text = recognizer.recognize_google(audio_data)\n",
    "        print(text)\n",
    "    audiotext = text\n",
    "    item = gTTS(text=audiotext, lang='en', slow=False)\n",
    "    item.save(\"myaudio.mp3\") \n",
    "    aud = ipd.Audio(\"myaudio.mp3\")\n",
    "    return aud"
   ]
  },
  {
   "cell_type": "code",
   "execution_count": null,
   "metadata": {},
   "outputs": [],
   "source": []
  }
 ],
 "metadata": {
  "kernelspec": {
   "display_name": "Python 3",
   "language": "python",
   "name": "python3"
  },
  "language_info": {
   "codemirror_mode": {
    "name": "ipython",
    "version": 3
   },
   "file_extension": ".py",
   "mimetype": "text/x-python",
   "name": "python",
   "nbconvert_exporter": "python",
   "pygments_lexer": "ipython3",
   "version": "3.8.2"
  }
 },
 "nbformat": 4,
 "nbformat_minor": 4
}
